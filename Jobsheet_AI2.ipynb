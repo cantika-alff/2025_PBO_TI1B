{
  "nbformat": 4,
  "nbformat_minor": 0,
  "metadata": {
    "colab": {
      "provenance": [],
      "authorship_tag": "ABX9TyPBCZY2aIVantIesLPs5azj",
      "include_colab_link": true
    },
    "kernelspec": {
      "name": "python3",
      "display_name": "Python 3"
    },
    "language_info": {
      "name": "python"
    }
  },
  "cells": [
    {
      "cell_type": "markdown",
      "metadata": {
        "id": "view-in-github",
        "colab_type": "text"
      },
      "source": [
        "<a href=\"https://colab.research.google.com/github/cantika-alff/2025_PBO_TI1B/blob/main/Jobsheet_AI2.ipynb\" target=\"_parent\"><img src=\"https://colab.research.google.com/assets/colab-badge.svg\" alt=\"Open In Colab\"/></a>"
      ]
    },
    {
      "cell_type": "markdown",
      "source": [
        "# LATIHAN"
      ],
      "metadata": {
        "id": "erD0bqdTlUwr"
      }
    },
    {
      "cell_type": "markdown",
      "source": [
        "## Latihan 2"
      ],
      "metadata": {
        "id": "RNMvDD-4lpzi"
      }
    },
    {
      "cell_type": "code",
      "source": [
        "# a. Mendapatkan nilai minimum dan maksimum\n",
        "x = min(5, 10, 25)\n",
        "y = max(6, 12, 18)\n",
        "print(\"Nilai minimum:\", x)\n",
        "print(\"Nilai maksimum:\", y)\n",
        "\n",
        "# b. Mendapatkan nilai absolut\n",
        "x = abs(-7.25)\n",
        "print(\"Nilai absolut:\", x)\n",
        "\n",
        "# c. Mendapatkan nilai pangkat\n",
        "import math\n",
        "x = math.pow(4, 3)\n",
        "print(\"Nilai pangkat 4^3:\", x)\n",
        "\n",
        "# d. Mendapatkan nilai akar\n",
        "x = math.sqrt(64)\n",
        "print(\"Nilai akar dari 64:\", x)\n",
        "\n",
        "# e. Mendapatkan nilai pembulatan\n",
        "x = math.ceil(1.4)\n",
        "y = math.floor(1.4)\n",
        "print(\"Nilai pembulatan ke atas:\", x)\n",
        "print(\"Nilai pembulatan ke bawah:\", y)\n",
        "\n",
        "# f. Mendapatkan nilai konstanta (PI)\n",
        "x = math.pi\n",
        "print(\"Nilai konstanta PI:\", x)\n"
      ],
      "metadata": {
        "colab": {
          "base_uri": "https://localhost:8080/"
        },
        "id": "JzIiKrDIlrlh",
        "outputId": "fd85abdb-91dc-40df-9c24-b5a2561b1a4b"
      },
      "execution_count": 8,
      "outputs": [
        {
          "output_type": "stream",
          "name": "stdout",
          "text": [
            "Nilai minimum: 5\n",
            "Nilai maksimum: 18\n",
            "Nilai absolut: 7.25\n",
            "Nilai pangkat 4^3: 64.0\n",
            "Nilai akar dari 64: 8.0\n",
            "Nilai pembulatan ke atas: 2\n",
            "Nilai pembulatan ke bawah: 1\n",
            "Nilai konstanta PI: 3.141592653589793\n"
          ]
        }
      ]
    },
    {
      "cell_type": "markdown",
      "source": [
        "## Latihan 3"
      ],
      "metadata": {
        "id": "DXRnzq1Hl1aG"
      }
    },
    {
      "cell_type": "code",
      "source": [
        "import math\n",
        "\n",
        "# 1. math.sin() - Nilai sinus dari sudut dalam radian\n",
        "x = math.sin(math.radians(30))  # Konversi 30 derajat ke radian\n",
        "print(\"Sinus dari 30 derajat:\", x)\n",
        "\n",
        "# 2. math.cos() - Nilai cosinus dari sudut dalam radian\n",
        "x = math.cos(math.radians(60))\n",
        "print(\"Cosinus dari 60 derajat:\", x)\n",
        "\n",
        "# 3. math.tan() - Nilai tangen dari sudut dalam radian\n",
        "x = math.tan(math.radians(45))\n",
        "print(\"Tangen dari 45 derajat:\", x)\n",
        "\n",
        "# 4. math.log() - Logaritma natural (basis e)\n",
        "x = math.log(10)\n",
        "print(\"Logaritma natural dari 10:\", x)\n",
        "\n",
        "# 5. math.log10() - Logaritma basis 10\n",
        "x = math.log10(100)\n",
        "print(\"Logaritma basis 10 dari 100:\", x)\n",
        "\n",
        "# 6. math.degrees() - Konversi radian ke derajat\n",
        "x = math.degrees(math.pi)\n",
        "print(\"Konversi π radian ke derajat:\", x)\n",
        "\n",
        "# 7. math.dist() - Jarak Euclidean antara dua titik\n",
        "p1 = (3, 4)\n",
        "p2 = (6, 8)\n",
        "x = math.dist(p1, p2)\n",
        "print(\"Jarak Euclidean antara (3,4) dan (6,8):\", x)\n",
        "\n",
        "# 8. math.factorial() - Faktorial dari sebuah bilangan\n",
        "x = math.factorial(5)\n",
        "print(\"Faktorial dari 5:\", x)\n",
        "\n",
        "# 9. math.fmod() - Sisa hasil bagi (modulus) dengan desimal\n",
        "x = math.fmod(10.5, 3)\n",
        "print(\"Sisa hasil bagi 10.5 % 3:\", x)\n",
        "\n",
        "# 10. math.isnan() - Mengecek apakah nilai NaN (Not a Number)\n",
        "x = math.isnan(float('nan'))  # Menghasilkan True\n",
        "print(\"Apakah NaN:\", x)\n",
        "\n",
        "# 11. math.gamma() - Fungsi gamma (faktorial untuk bilangan real)\n",
        "x = math.gamma(6)  # (6-1)! = 5! = 120\n",
        "print(\"Gamma dari 6:\", x)\n",
        "\n",
        "# 12. math.perm() - Permutasi dari n dan r\n",
        "x = math.perm(5, 3)  # P(5,3) = 5! / (5-3)!\n",
        "print(\"Permutasi dari 5P3:\", x)\n"
      ],
      "metadata": {
        "colab": {
          "base_uri": "https://localhost:8080/"
        },
        "id": "QXJ6dLicl1Ks",
        "outputId": "709cab88-9d90-4793-9600-e2db39422d05"
      },
      "execution_count": 9,
      "outputs": [
        {
          "output_type": "stream",
          "name": "stdout",
          "text": [
            "Sinus dari 30 derajat: 0.49999999999999994\n",
            "Cosinus dari 60 derajat: 0.5000000000000001\n",
            "Tangen dari 45 derajat: 0.9999999999999999\n",
            "Logaritma natural dari 10: 2.302585092994046\n",
            "Logaritma basis 10 dari 100: 2.0\n",
            "Konversi π radian ke derajat: 180.0\n",
            "Jarak Euclidean antara (3,4) dan (6,8): 5.0\n",
            "Faktorial dari 5: 120\n",
            "Sisa hasil bagi 10.5 % 3: 1.5\n",
            "Apakah NaN: True\n",
            "Gamma dari 6: 120.0\n",
            "Permutasi dari 5P3: 60\n"
          ]
        }
      ]
    },
    {
      "cell_type": "markdown",
      "source": [
        "## Latihan 4"
      ],
      "metadata": {
        "id": "zsiMuHMal31l"
      }
    },
    {
      "cell_type": "code",
      "source": [
        "import numpy as np\n",
        "\n",
        "# Membuat matriks A dan B\n",
        "A = np.array([[80, 30, 25],\n",
        "              [50, 20, 10]])\n",
        "\n",
        "B = np.array([[30, 60, 15],\n",
        "              [10, 30, 30]])\n",
        "\n",
        "# Menjumlahkan matriks\n",
        "hasil = A + B\n",
        "\n",
        "# Menampilkan hasil\n",
        "print(\"Matriks A:\\n\", A)\n",
        "print(\"Matriks B:\\n\", B)\n",
        "print(\"Hasil Penjumlahan A + B:\\n\", hasil)\n"
      ],
      "metadata": {
        "colab": {
          "base_uri": "https://localhost:8080/"
        },
        "id": "2tMSTZL0l3pd",
        "outputId": "43e4ba54-868e-4326-81a6-04bcc11338e3"
      },
      "execution_count": 13,
      "outputs": [
        {
          "output_type": "stream",
          "name": "stdout",
          "text": [
            "Matriks A:\n",
            " [[80 30 25]\n",
            " [50 20 10]]\n",
            "Matriks B:\n",
            " [[30 60 15]\n",
            " [10 30 30]]\n",
            "Hasil Penjumlahan A + B:\n",
            " [[110  90  40]\n",
            " [ 60  50  40]]\n"
          ]
        }
      ]
    },
    {
      "cell_type": "code",
      "source": [
        "import numpy as np\n",
        "\n",
        "# Membuat vektor A dan B\n",
        "A = np.array([10, 20, 15])\n",
        "B = np.array([16, 67, 35])\n",
        "\n",
        "# Menghitung dot product\n",
        "hasil = np.dot(A, B)\n",
        "\n",
        "# Menampilkan hasil\n",
        "print(\"Vektor A:\", A)\n",
        "print(\"Vektor B:\", B)\n",
        "print(\"Hasil Dot Product:\", hasil)\n"
      ],
      "metadata": {
        "colab": {
          "base_uri": "https://localhost:8080/"
        },
        "id": "rivFat-4q4GN",
        "outputId": "1ffda79e-2bac-4aa1-88c2-ae8075e6652a"
      },
      "execution_count": 15,
      "outputs": [
        {
          "output_type": "stream",
          "name": "stdout",
          "text": [
            "Vektor A: [10 20 15]\n",
            "Vektor B: [16 67 35]\n",
            "Hasil Dot Product: 2025\n"
          ]
        }
      ]
    },
    {
      "cell_type": "code",
      "source": [
        "import numpy as np\n",
        "\n",
        "# Membuat vektor A dan B\n",
        "A = np.array([10, 20, 15])\n",
        "B = np.array([16, 67, 35])\n",
        "\n",
        "# Menghitung cross product\n",
        "hasil = np.cross(A, B)\n",
        "\n",
        "# Menampilkan hasil\n",
        "print(\"Vektor A:\", A)\n",
        "print(\"Vektor B:\", B)\n",
        "print(\"Hasil Cross Product:\", hasil)\n"
      ],
      "metadata": {
        "colab": {
          "base_uri": "https://localhost:8080/"
        },
        "id": "LCnwQCQsrBTR",
        "outputId": "a2519dac-8e94-48b6-9a97-0335cd0f36e3"
      },
      "execution_count": 16,
      "outputs": [
        {
          "output_type": "stream",
          "name": "stdout",
          "text": [
            "Vektor A: [10 20 15]\n",
            "Vektor B: [16 67 35]\n",
            "Hasil Cross Product: [-305 -110  350]\n"
          ]
        }
      ]
    },
    {
      "cell_type": "markdown",
      "source": [
        "# PRAKTIKUM"
      ],
      "metadata": {
        "id": "CEpkH9LxrLdt"
      }
    },
    {
      "cell_type": "markdown",
      "source": [
        "## Praktikum 1"
      ],
      "metadata": {
        "id": "h2RzhnF7rPVz"
      }
    },
    {
      "cell_type": "code",
      "source": [
        "import numpy as np\n",
        "\n",
        "# Definisi matriks\n",
        "A = np.array([[3, 1], [2, 0]])\n",
        "B = np.array([[2, 1], [1, -1]])\n",
        "C = np.array([[-1, 1, 2], [2, 0, -1]])\n",
        "\n",
        "# Perkalian matriks A x B\n",
        "AB = np.dot(A, B)\n",
        "\n",
        "# Perkalian matriks B x C\n",
        "BC = np.dot(B, C)\n",
        "\n",
        "# Menampilkan hasil\n",
        "print(\"Hasil A × B:\\n\", AB)\n",
        "print(\"Hasil B × C:\\n\", BC)\n"
      ],
      "metadata": {
        "colab": {
          "base_uri": "https://localhost:8080/"
        },
        "id": "MUpZIT1mrQ1H",
        "outputId": "ebb3bef1-f572-4a1b-a242-dcc186602f63"
      },
      "execution_count": 18,
      "outputs": [
        {
          "output_type": "stream",
          "name": "stdout",
          "text": [
            "Hasil A × B:\n",
            " [[7 2]\n",
            " [4 2]]\n",
            "Hasil B × C:\n",
            " [[ 0  2  3]\n",
            " [-3  1  3]]\n"
          ]
        }
      ]
    },
    {
      "cell_type": "markdown",
      "source": [
        "## Praktikum 2"
      ],
      "metadata": {
        "id": "0XRT8fE1sBOa"
      }
    },
    {
      "cell_type": "code",
      "source": [
        "import math\n",
        "\n",
        "# a. Faktorial 6!\n",
        "faktorial_6 = math.factorial(6)\n",
        "\n",
        "# b. Faktorial 8! / 5!\n",
        "faktorial_8_per_5 = math.factorial(8) / math.factorial(5)\n",
        "\n",
        "# Menampilkan hasil\n",
        "print(\"6! =\", faktorial_6)\n",
        "print(\"8! / 5! =\", faktorial_8_per_5)\n"
      ],
      "metadata": {
        "colab": {
          "base_uri": "https://localhost:8080/"
        },
        "id": "VFfl0SSVsAXf",
        "outputId": "f1138cba-65b5-4353-d07c-5ba220d0a4d2"
      },
      "execution_count": 20,
      "outputs": [
        {
          "output_type": "stream",
          "name": "stdout",
          "text": [
            "6! = 720\n",
            "8! / 5! = 336.0\n"
          ]
        }
      ]
    },
    {
      "cell_type": "markdown",
      "source": [
        "## Praktikum 3"
      ],
      "metadata": {
        "id": "-sv5DVBZsKqw"
      }
    },
    {
      "cell_type": "code",
      "source": [
        "import numpy as np\n",
        "\n",
        "# Definisi vektor dalam format [i, j, k]\n",
        "A = np.array([5, 3, 7])\n",
        "B = np.array([12, -3, 1])\n",
        "\n",
        "# Panjang masing-masing vektor (magnitudo)\n",
        "panjang_A = np.linalg.norm(A)\n",
        "panjang_B = np.linalg.norm(B)\n",
        "\n",
        "# Perkalian titik (dot product)\n",
        "AB_dot = np.dot(A, B)\n",
        "\n",
        "# Perkalian silang (cross product)\n",
        "AB_cross = np.cross(A, B)\n",
        "\n",
        "# Menampilkan hasil\n",
        "print(\"Panjang Vektor A:\", panjang_A)\n",
        "print(\"Panjang Vektor B:\", panjang_B)\n",
        "print(\"Perkalian Titik A . B:\", AB_dot)\n",
        "print(\"Perkalian Silang A × B:\\n\", AB_cross)\n"
      ],
      "metadata": {
        "colab": {
          "base_uri": "https://localhost:8080/"
        },
        "id": "Kzbd_dw6sMH_",
        "outputId": "fb4971fc-a5f5-4b01-e969-4e0fbe5682e9"
      },
      "execution_count": 21,
      "outputs": [
        {
          "output_type": "stream",
          "name": "stdout",
          "text": [
            "Panjang Vektor A: 9.1104335791443\n",
            "Panjang Vektor B: 12.409673645990857\n",
            "Perkalian Titik A . B: 58\n",
            "Perkalian Silang A × B:\n",
            " [ 24  79 -51]\n"
          ]
        }
      ]
    }
  ]
}